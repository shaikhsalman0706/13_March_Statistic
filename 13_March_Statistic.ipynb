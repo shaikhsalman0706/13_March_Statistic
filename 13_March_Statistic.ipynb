{
 "cells": [
  {
   "cell_type": "markdown",
   "id": "432b2967",
   "metadata": {},
   "source": [
    "### Q1. Explain the assumptions required to use ANOVA and provide examples of violations that could impact the validity of the results."
   ]
  },
  {
   "cell_type": "markdown",
   "id": "3a335b3d",
   "metadata": {},
   "source": [
    "#### ANOVA (Analysis of Variance) is a statistical method used to compare means between more than two groups. ANOVA relies on several assumptions to ensure the validity of its results.\n",
    "\n",
    "##### The main assumptions of ANOVA are:\n",
    "\n",
    "###### 1. Normality: The data should follow a normal distribution within each group.\n",
    "###### 2. Homogeneity of variance: The variance of each group should be equal.\n",
    "###### 3. Independence: The observations should be independent of each other.\n",
    "###### 4. Random sampling: The data should be collected through a random sampling process.\n",
    "###### 5. Equal sample sizes: The sample sizes for each group should be equal.\n",
    "\n",
    "##### If any of these assumptions are violated, it could impact the validity of the results. Some examples of violations that could impact the validity of the results are:\n",
    "\n",
    "###### 1. Non-normality: If the data is not normally distributed, the results may be invalid. For example, if the data is skewed or has outliers, ANOVA may not be appropriate. In such cases, non-parametric tests may be more appropriate.\n",
    "###### 2. Heteroscedasticity: If the variance is not equal across groups, the results may be biased. For example, if one group has a much larger variance than the others, ANOVA may not be appropriate.\n",
    "###### 3. Autocorrelation: If the observations are not independent of each other, the results may be biased. For example, if the same individual is observed multiple times, the observations may be correlated.\n",
    "###### 4. Non-random sampling: If the data is not collected through a random sampling process, the results may be biased. For example, if individuals are selectively chosen to participate in the study, the results may not be generalizable to the entire population.\n",
    "###### 5. Unequal sample sizes: If the sample sizes for each group are not equal, the results may be biased. For example, if one group has a much larger sample size than the others, ANOVA may not be appropriate.\n",
    "#### It is important to check for violations of these assumptions before conducting ANOVA and to address them if they are present. This can be done through visual inspection of the data, statistical tests, or transformations of the data."
   ]
  },
  {
   "cell_type": "markdown",
   "id": "83b54bb9",
   "metadata": {},
   "source": [
    "### Q2. What are the three types of ANOVA, and in what situations would each be used?"
   ]
  },
  {
   "cell_type": "markdown",
   "id": "6240c7be",
   "metadata": {},
   "source": [
    "### The three types of ANOVA are one-way ANOVA, two-way ANOVA, and repeated measures ANOVA. Each type of ANOVA is used in different situations, as explained below:\n",
    "\n",
    "###### One-way ANOVA: One-way ANOVA is used when we want to compare the means of more than two groups for a single independent variable (also known as a factor). For example, we may want to compare the average test scores of students who attended different schools, with each school representing a different group. One-way ANOVA determines if there is a significant difference in the means of the groups and which groups are significantly different from each other.\n",
    "\n",
    "###### Two-way ANOVA: Two-way ANOVA is used when we want to investigate the effects of two independent variables (also known as factors) on a dependent variable. For example, we may want to investigate the effect of both age and gender on exam scores. Two-way ANOVA determines whether each independent variable has a significant effect on the dependent variable, as well as whether there is an interaction effect between the two independent variables.\n",
    "\n",
    "###### Repeated measures ANOVA: Repeated measures ANOVA is used when we want to compare the means of two or more groups that are measured repeatedly over time or under different conditions. For example, we may want to compare the effectiveness of three different treatments for a medical condition, with each patient receiving all three treatments over time. Repeated measures ANOVA determines whether there is a significant difference in the means of the groups and which groups are significantly different from each other, while accounting for the correlation between repeated measurements."
   ]
  },
  {
   "cell_type": "markdown",
   "id": "80feda09",
   "metadata": {},
   "source": [
    "### Q3. What is the partitioning of variance in ANOVA, and why is it important to understand this concept?"
   ]
  },
  {
   "cell_type": "markdown",
   "id": "f920fd16",
   "metadata": {},
   "source": [
    "#### In ANOVA (Analysis of Variance), the partitioning of variance refers to the process of decomposing the total variation in the response variable into its components, which can be attributed to different sources or factors. The goal of ANOVA is to determine whether the mean values of the response variable differ significantly across different levels of one or more factors.\n",
    "\n",
    "#### There are three types of variances in ANOVA: the total variance, the between-group variance, and the within-group variance. The total variance is the total variation in the response variable, which can be partitioned into the variance between the groups and the variance within the groups.\n",
    "\n",
    "#### The between-group variance represents the variation in the response variable that is explained by the differences between the groups, which can be attributed to the effect of the factor(s) being studied. The within-group variance, on the other hand, represents the variation in the response variable that is not explained by the differences between the groups, which can be attributed to the random variability within each group.\n",
    "\n",
    "#### Understanding the partitioning of variance is important because it helps to determine the significance of the factor(s) being studied in explaining the variation in the response variable. If the between-group variance is much larger than the within-group variance, it suggests that the factor(s) have a significant effect on the response variable. On the other hand, if the within-group variance is much larger than the between-group variance, it suggests that the factor(s) have little or no effect on the response variable.\n",
    "\n",
    "#### By partitioning the variance, ANOVA provides a framework for quantifying the amount of variation in the response variable that can be attributed to different factors, which is essential for drawing meaningful conclusions and making informed decisions based on the data."
   ]
  },
  {
   "cell_type": "markdown",
   "id": "1a908da4",
   "metadata": {},
   "source": [
    "### Q4. How would you calculate the total sum of squares (SST), explained sum of squares (SSE), and residual sum of squares (SSR) in a one-way ANOVA using Python?"
   ]
  },
  {
   "cell_type": "markdown",
   "id": "5335d9d4",
   "metadata": {},
   "source": [
    "#### To calculate the total sum of squares (SST), explained sum of squares (SSE), and residual sum of squares (SSR) in a one-way ANOVA using Python, you can use the statsmodels package. Here's an example:"
   ]
  },
  {
   "cell_type": "code",
   "execution_count": null,
   "id": "ff2cf37e",
   "metadata": {},
   "outputs": [],
   "source": [
    "import pandas as pd\n",
    "import statsmodels.api as sm\n",
    "from statsmodels.formula.api import ols\n",
    "\n",
    "# load data into a Pandas DataFrame\n",
    "data = pd.read_csv(\"data.csv\")\n",
    "\n",
    "# create a model formula\n",
    "model = ols(\"response_var ~ factor_var\", data=data).fit()\n",
    "\n",
    "# calculate SST\n",
    "sst = sm.stats.anova_lm(model, typ=1)[\"sum_sq\"][0]\n",
    "\n",
    "# calculate SSE\n",
    "sse = sm.stats.anova_lm(model, typ=1)[\"sum_sq\"][1]\n",
    "\n",
    "# calculate SSR\n",
    "ssr = sst - sse"
   ]
  },
  {
   "cell_type": "markdown",
   "id": "af5e0996",
   "metadata": {},
   "source": [
    "#### The anova_lm() function in statsmodels calculates the ANOVA table for the fitted model. The ANOVA table contains the sum of squares, degrees of freedom, mean squares, F-statistic, and p-value for each effect in the model. By extracting the sum of squares for the total and factor effects from the ANOVA table, we can calculate the SST, SSE, and SSR."
   ]
  },
  {
   "cell_type": "markdown",
   "id": "c0f66a25",
   "metadata": {},
   "source": [
    "### Q5. In a two-way ANOVA, how would you calculate the main effects and interaction effects using Python?"
   ]
  },
  {
   "cell_type": "markdown",
   "id": "1cd738eb",
   "metadata": {},
   "source": [
    "#### To calculate the main effects and interaction effects in a two-way ANOVA using Python, you can use the statsmodels library. Here is an example code snippet:"
   ]
  },
  {
   "cell_type": "code",
   "execution_count": 2,
   "id": "3c7ee7df",
   "metadata": {},
   "outputs": [
    {
     "name": "stdout",
     "output_type": "stream",
     "text": [
      "                sum_sq   df             F        PR(>F)\n",
      "A         5.000000e+02  1.0  9.364478e+27  6.578674e-15\n",
      "B         5.000000e+02  1.0  9.364478e+27  6.578674e-15\n",
      "A:B       7.888609e-27  1.0  1.477454e-01  7.663823e-01\n",
      "Residual  5.339326e-26  1.0           NaN           NaN\n"
     ]
    }
   ],
   "source": [
    "import pandas as pd\n",
    "import statsmodels.api as sm\n",
    "from statsmodels.formula.api import ols\n",
    "\n",
    "# create a pandas DataFrame with your data\n",
    "df = pd.DataFrame({'A': [1, 2, 3, 4], 'B': [10, 20, 30, 40], 'Y': [15, 25, 35, 45]})\n",
    "\n",
    "# fit the ANOVA model\n",
    "model = ols('Y ~ A + B + A:B', data=df).fit()\n",
    "\n",
    "# print the ANOVA table\n",
    "anova_table = sm.stats.anova_lm(model, typ=2)\n",
    "print(anova_table)"
   ]
  },
  {
   "cell_type": "markdown",
   "id": "0f5d0eda",
   "metadata": {},
   "source": [
    "### Q6. Suppose you conducted a one-way ANOVA and obtained an F-statistic of 5.23 and a p-value of 0.02.\n",
    "### What can you conclude about the differences between the groups, and how would you interpret these results?"
   ]
  },
  {
   "cell_type": "markdown",
   "id": "ea9aa85a",
   "metadata": {},
   "source": [
    "#### If you conducted a one-way ANOVA and obtained an F-statistic of 5.23 and a p-value of 0.02, it means that there is a statistically significant difference between at least two of the groups.\n",
    "\n",
    "#### The F-statistic measures the ratio of the between-group variance to the within-group variance. A larger F-statistic indicates that the between-group variance is greater than the within-group variance, which means that the groups are more different from each other than they are within each group. The p-value of 0.02 indicates that there is less than a 2% chance that the observed difference between the groups is due to chance.\n",
    "\n",
    "#### To interpret these results, you can conclude that there is evidence to suggest that there are significant differences between at least two of the groups. However, you cannot determine which specific groups are different from each other based on the ANOVA result alone. You would need to conduct post-hoc tests, such as Tukey's HSD or Bonferroni tests, to determine which specific group differences are statistically significant."
   ]
  },
  {
   "cell_type": "markdown",
   "id": "f2ff83cd",
   "metadata": {},
   "source": [
    "### Q7. In a repeated measures ANOVA, how would you handle missing data, and what are the potential consequences of using different methods to handle missing data?"
   ]
  },
  {
   "cell_type": "markdown",
   "id": "c534d154",
   "metadata": {},
   "source": [
    "#### In a repeated measures ANOVA, missing data can be handled using various methods such as:\n",
    "\n",
    "###### 1. Listwise deletion: This method involves excluding any case with missing data on any of the variables used in the analysis. This approach may result in the loss of a considerable amount of data and may introduce bias if the missing data are not missing completely at random (MCAR).\n",
    "\n",
    "###### 2. Pairwise deletion: This method only excludes cases with missing data on the variables used in the analysis for specific pairwise comparisons. This approach preserves all available data but may result in biased estimates of standard errors.\n",
    "\n",
    "###### 3. Imputation: This method involves replacing missing data with estimates of the missing values based on other available data. This approach can reduce bias if the imputation model accounts for any systematic relationships between missing data and observed variables, but can also introduce bias if the imputation model is misspecified.\n",
    "\n",
    "#### The potential consequences of using different methods to handle missing data in a repeated measures ANOVA can be significant. Using listwise deletion may result in a loss of statistical power and biased estimates if the missing data are not MCAR. Pairwise deletion may result in biased standard errors and decreased statistical power. Imputation methods can introduce bias if the imputation model is misspecified, but can be more efficient and reduce bias if the imputation model is correctly specified. Therefore, the choice of the missing data handling method should be based on the type of missing data and the research question. It is recommended to perform sensitivity analysis to assess the impact of different missing data handling methods on the results."
   ]
  },
  {
   "cell_type": "markdown",
   "id": "970695dd",
   "metadata": {},
   "source": [
    "### Q8. What are some common post-hoc tests used after ANOVA, and when would you use each one? Provide an example of a situation where a post-hoc test might be necessary."
   ]
  },
  {
   "cell_type": "markdown",
   "id": "12c2c891",
   "metadata": {},
   "source": [
    "#### Post-hoc tests are used after conducting ANOVA to determine which specific group differences are statistically significant. Some common post-hoc tests include:\n",
    "\n",
    "###### 1. Tukey's HSD (Honestly Significant Difference) test: This test is used to compare all possible pairs of means while controlling the overall family-wise error rate. It is appropriate when the number of pairwise comparisons is small and the assumption of homogeneity of variances is met.\n",
    "\n",
    "###### 2. Bonferroni correction: This test adjusts the alpha level for multiple comparisons by dividing the alpha level by the number of comparisons made. It is appropriate when conducting a large number of pairwise comparisons.\n",
    "\n",
    "###### 3. Scheffe's test: This test controls the overall family-wise error rate and is more conservative than Tukey's HSD test. It is appropriate when the number of pairwise comparisons is large.\n",
    "\n",
    "###### 4. Dunnett's test: This test is used to compare each group mean with a control group mean. It is appropriate when there is a control group and multiple treatment groups.\n",
    "\n",
    "###### 5. Games-Howell test: This test is used when the assumption of equal variances is not met, and the sample sizes are unequal.\n",
    "\n",
    "#### A situation where a post-hoc test might be necessary is when conducting a study with multiple groups and significant differences are found in the ANOVA analysis. For example, a researcher may conduct an experiment to compare the effectiveness of three different treatments for reducing anxiety. After conducting the ANOVA analysis, the researcher finds a significant difference between the three treatments. To determine which specific treatment is more effective, a post-hoc test such as Tukey's HSD or Dunnett's test could be used to compare all possible pairs of means or compare each treatment group with a control group, respectively."
   ]
  },
  {
   "cell_type": "markdown",
   "id": "7b75726a",
   "metadata": {},
   "source": [
    "### Q9. A researcher wants to compare the mean weight loss of three diets: A, B, and C. They collect data from 50 participants who were randomly assigned to one of the diets. Conduct a one-way ANOVA using Python to determine if there are any significant differences between the mean weight loss of the three diets.\n",
    "### Report the F-statistic and p-value, and interpret the results."
   ]
  },
  {
   "cell_type": "code",
   "execution_count": 3,
   "id": "e8e711ec",
   "metadata": {},
   "outputs": [
    {
     "name": "stdout",
     "output_type": "stream",
     "text": [
      "F-statistic:  212.56167792392472\n",
      "p-value:  6.183862672650103e-31\n"
     ]
    }
   ],
   "source": [
    "import scipy.stats as stats\n",
    "\n",
    "# weight loss data for the three diets\n",
    "diet_a = [3.2, 2.9, 3.1, 2.8, 3.5, 2.7, 2.6, 2.9, 3.0, 2.8, \n",
    "          3.1, 2.7, 3.0, 3.2, 2.9, 2.8, 2.7, 3.1, 2.8, 3.0, \n",
    "          2.9, 2.8, 3.2, 3.0, 3.1]\n",
    "diet_b = [2.5, 2.1, 2.7, 2.4, 2.2, 2.3, 2.6, 2.1, 2.3, 2.5, \n",
    "          2.2, 2.4, 2.5, 2.3, 2.2, 2.4, 2.5, 2.1, 2.4, 2.2, \n",
    "          2.3, 2.4, 2.5, 2.1, 2.2]\n",
    "diet_c = [1.9, 2.0, 1.8, 1.7, 1.9, 1.8, 2.1, 2.0, 2.2, 2.1, \n",
    "          1.8, 2.0, 1.9, 2.1, 1.8, 1.9, 1.7, 2.0, 1.8, 2.1, \n",
    "          2.2, 1.7, 1.9, 1.8, 2.0]\n",
    "\n",
    "# perform one-way ANOVA\n",
    "f_stat, p_value = stats.f_oneway(diet_a, diet_b, diet_c)\n",
    "\n",
    "# print results\n",
    "print(\"F-statistic: \", f_stat)\n",
    "print(\"p-value: \", p_value)"
   ]
  },
  {
   "cell_type": "markdown",
   "id": "0364fdc6",
   "metadata": {},
   "source": [
    "###### F-statistic is 212.56 and the p-value is 6.18e-31.\n",
    "\n",
    "###### Since the p-value is very small, we can reject the null hypothesis that the means of the three diets are equal, and conclude that there are significant differences between the mean weight loss of the three diets."
   ]
  },
  {
   "cell_type": "markdown",
   "id": "22de8504",
   "metadata": {},
   "source": [
    "### Q10. A company wants to know if there are any significant differences in the average time it takes to complete a task using three different software programs: Program A, Program B, and Program C. They randomly assign 30 employees to one of the programs and record the time it takes each employee to complete the task. Conduct a two-way ANOVA using Python to determine if there are any main effects or interaction effects between the software programs and employee experience level (novice vs. experienced). Report the F-statistics and p-values, and interpret the results."
   ]
  },
  {
   "cell_type": "code",
   "execution_count": 8,
   "id": "a2cee3ef",
   "metadata": {},
   "outputs": [
    {
     "name": "stdout",
     "output_type": "stream",
     "text": [
      "                          sum_sq    df             F    PR(>F)\n",
      "Program             4.266667e+00   2.0  4.169866e-01  0.524103\n",
      "Experience         -4.522794e-15   1.0 -8.840365e-16  1.000000\n",
      "Program:Experience  2.031548e+01   2.0  1.985457e+00  0.157599\n",
      "Residual            1.330179e+02  26.0           NaN       NaN\n"
     ]
    },
    {
     "name": "stderr",
     "output_type": "stream",
     "text": [
      "C:\\Users\\shaik\\anaconda3\\lib\\site-packages\\statsmodels\\base\\model.py:1871: ValueWarning: covariance of constraints does not have full rank. The number of constraints is 2, but rank is 1\n",
      "  warnings.warn('covariance of constraints does not have full '\n"
     ]
    }
   ],
   "source": [
    "import pandas as pd\n",
    "import statsmodels.api as sm\n",
    "from statsmodels.formula.api import ols\n",
    "\n",
    "# create a dataframe with the time data and employee experience level\n",
    "data = {'Time': [25, 27, 28, 23, 26, 28, 29, 22, 24, 27, 21, 23, 25, 26, 27, 23, 25, 24, 29, 22, \n",
    "                 28, 26, 23, 24, 27, 21, 23, 25, 26, 27],\n",
    "        'Program': ['A', 'A', 'A', 'A', 'A', 'A', 'A', 'B', 'B', 'B', 'B', 'B', 'B', 'B', 'B', \n",
    "                    'C', 'C', 'C', 'C', 'C', 'C', 'C', 'C', 'C', 'C', 'C', 'C', 'C', 'C', 'C'],\n",
    "        'Experience': ['Experienced', 'Experienced', 'Experienced', 'Experienced', 'Experienced', \n",
    "                       'Experienced', 'Experienced', 'Novice', 'Novice', 'Novice', 'Novice', 'Novice', \n",
    "                       'Novice', 'Novice', 'Novice', 'Experienced', 'Experienced', 'Experienced', \n",
    "                       'Experienced', 'Experienced', 'Experienced', 'Experienced', 'Novice', \n",
    "                       'Novice', 'Novice', 'Novice', 'Novice', 'Novice', 'Novice', 'Novice']}\n",
    "\n",
    "df = pd.DataFrame(data)\n",
    "\n",
    "# perform two-way ANOVA\n",
    "model = ols('Time ~ Program + Experience + Program:Experience', data=df).fit()\n",
    "anova_table = sm.stats.anova_lm(model, typ=2)\n",
    "\n",
    "# print results\n",
    "print(anova_table)"
   ]
  },
  {
   "cell_type": "markdown",
   "id": "f6db892c",
   "metadata": {},
   "source": [
    "### Q11. An educational researcher is interested in whether a new teaching method improves student test scores. They randomly assign 100 students to either the control group (traditional teaching method) or the experimental group (new teaching method) and administer a test at the end of the semester. Conduct a two-sample t-test using Python to determine if there are any significant differences in test scores between the two groups. If the results are significant, follow up with a post-hoc test to determine which group(s) differ significantly from each other."
   ]
  },
  {
   "cell_type": "code",
   "execution_count": 13,
   "id": "1fe480ac",
   "metadata": {},
   "outputs": [
    {
     "name": "stdout",
     "output_type": "stream",
     "text": [
      "t-statistic:  -1.8391300533320496\n",
      "p-value:  0.06892390646076188\n"
     ]
    }
   ],
   "source": [
    "import numpy as np\n",
    "from scipy.stats import ttest_ind, f_oneway, tukey_hsd\n",
    "\n",
    "# generate example data\n",
    "control_scores = np.random.normal(loc=70, scale=10, size=50)\n",
    "experimental_scores = np.random.normal(loc=75, scale=10, size=50)\n",
    "\n",
    "# conduct two-sample t-test\n",
    "t_statistic, p_value = ttest_ind(control_scores, experimental_scores)\n",
    "\n",
    "# print results\n",
    "print(\"t-statistic: \", t_statistic)\n",
    "print(\"p-value: \", p_value)\n",
    "\n",
    "# conduct post-hoc Tukey test if significant differences found\n",
    "if p_value < 0.05:\n",
    "    all_scores = np.concatenate((control_scores, experimental_scores))\n",
    "    group_labels = ['control'] * len(control_scores) + ['experimental'] * len(experimental_scores)\n",
    "    tukey_results = tukey_hsd(all_scores, group_labels)\n",
    "    print(tukey_results)"
   ]
  },
  {
   "cell_type": "markdown",
   "id": "fc959920",
   "metadata": {},
   "source": [
    "### Q12. A researcher wants to know if there are any significant differences in the average daily sales of three retail stores: Store A, Store B, and Store C. They randomly select 30 days and record the sales for each store on those days. Conduct a repeated measures ANOVA using Python to determine if there are any significant differences in sales between the three stores. If the results are significant, follow up with a post-hoc test to determine which store(s) differ significantly from each other."
   ]
  },
  {
   "cell_type": "code",
   "execution_count": 18,
   "id": "e28c3069",
   "metadata": {},
   "outputs": [
    {
     "name": "stdout",
     "output_type": "stream",
     "text": [
      "F-statistic:  32.41263035612066\n",
      "p-value:  3.024279614506088e-11\n"
     ]
    },
    {
     "ename": "TypeError",
     "evalue": "ufunc 'isinf' not supported for the input types, and the inputs could not be safely coerced to any supported types according to the casting rule ''safe''",
     "output_type": "error",
     "traceback": [
      "\u001b[1;31m---------------------------------------------------------------------------\u001b[0m",
      "\u001b[1;31mTypeError\u001b[0m                                 Traceback (most recent call last)",
      "\u001b[1;32m~\\AppData\\Local\\Temp\\ipykernel_10328\\2253966448.py\u001b[0m in \u001b[0;36m<module>\u001b[1;34m\u001b[0m\n\u001b[0;32m     18\u001b[0m     \u001b[0mall_sales\u001b[0m \u001b[1;33m=\u001b[0m \u001b[0mnp\u001b[0m\u001b[1;33m.\u001b[0m\u001b[0mconcatenate\u001b[0m\u001b[1;33m(\u001b[0m\u001b[1;33m(\u001b[0m\u001b[0mstore_a_sales\u001b[0m\u001b[1;33m,\u001b[0m \u001b[0mstore_b_sales\u001b[0m\u001b[1;33m,\u001b[0m \u001b[0mstore_c_sales\u001b[0m\u001b[1;33m)\u001b[0m\u001b[1;33m)\u001b[0m\u001b[1;33m\u001b[0m\u001b[1;33m\u001b[0m\u001b[0m\n\u001b[0;32m     19\u001b[0m     \u001b[0mgroup_labels\u001b[0m \u001b[1;33m=\u001b[0m \u001b[1;33m[\u001b[0m\u001b[1;34m'Store A'\u001b[0m\u001b[1;33m]\u001b[0m \u001b[1;33m*\u001b[0m \u001b[0mlen\u001b[0m\u001b[1;33m(\u001b[0m\u001b[0mstore_a_sales\u001b[0m\u001b[1;33m)\u001b[0m \u001b[1;33m+\u001b[0m \u001b[1;33m[\u001b[0m\u001b[1;34m'Store B'\u001b[0m\u001b[1;33m]\u001b[0m \u001b[1;33m*\u001b[0m \u001b[0mlen\u001b[0m\u001b[1;33m(\u001b[0m\u001b[0mstore_b_sales\u001b[0m\u001b[1;33m)\u001b[0m \u001b[1;33m+\u001b[0m \u001b[1;33m[\u001b[0m\u001b[1;34m'Store C'\u001b[0m\u001b[1;33m]\u001b[0m \u001b[1;33m*\u001b[0m \u001b[0mlen\u001b[0m\u001b[1;33m(\u001b[0m\u001b[0mstore_c_sales\u001b[0m\u001b[1;33m)\u001b[0m\u001b[1;33m\u001b[0m\u001b[1;33m\u001b[0m\u001b[0m\n\u001b[1;32m---> 20\u001b[1;33m     \u001b[0mtukey_results\u001b[0m \u001b[1;33m=\u001b[0m \u001b[0mtukey_hsd\u001b[0m\u001b[1;33m(\u001b[0m\u001b[0mall_sales\u001b[0m\u001b[1;33m,\u001b[0m \u001b[0mgroup_labels\u001b[0m\u001b[1;33m)\u001b[0m\u001b[1;33m\u001b[0m\u001b[1;33m\u001b[0m\u001b[0m\n\u001b[0m\u001b[0;32m     21\u001b[0m     \u001b[0mprint\u001b[0m\u001b[1;33m(\u001b[0m\u001b[0mtukey_results\u001b[0m\u001b[1;33m)\u001b[0m\u001b[1;33m\u001b[0m\u001b[1;33m\u001b[0m\u001b[0m\n",
      "\u001b[1;32m~\\anaconda3\\lib\\site-packages\\scipy\\stats\\_hypotests.py\u001b[0m in \u001b[0;36mtukey_hsd\u001b[1;34m(*args)\u001b[0m\n\u001b[0;32m   1728\u001b[0m         s = (\"Tukey's HSD Pairwise Group Comparisons\"\n\u001b[0;32m   1729\u001b[0m              f\" ({self._ci_cl*100:.1f}% Confidence Interval)\\n\")\n\u001b[1;32m-> 1730\u001b[1;33m         \u001b[0ms\u001b[0m \u001b[1;33m+=\u001b[0m \u001b[1;34m\"Comparison  Statistic  p-value  Lower CI  Upper CI\\n\"\u001b[0m\u001b[1;33m\u001b[0m\u001b[1;33m\u001b[0m\u001b[0m\n\u001b[0m\u001b[0;32m   1731\u001b[0m         \u001b[1;32mfor\u001b[0m \u001b[0mi\u001b[0m \u001b[1;32min\u001b[0m \u001b[0mrange\u001b[0m\u001b[1;33m(\u001b[0m\u001b[0mself\u001b[0m\u001b[1;33m.\u001b[0m\u001b[0mpvalue\u001b[0m\u001b[1;33m.\u001b[0m\u001b[0mshape\u001b[0m\u001b[1;33m[\u001b[0m\u001b[1;36m0\u001b[0m\u001b[1;33m]\u001b[0m\u001b[1;33m)\u001b[0m\u001b[1;33m:\u001b[0m\u001b[1;33m\u001b[0m\u001b[1;33m\u001b[0m\u001b[0m\n\u001b[0;32m   1732\u001b[0m             \u001b[1;32mfor\u001b[0m \u001b[0mj\u001b[0m \u001b[1;32min\u001b[0m \u001b[0mrange\u001b[0m\u001b[1;33m(\u001b[0m\u001b[0mself\u001b[0m\u001b[1;33m.\u001b[0m\u001b[0mpvalue\u001b[0m\u001b[1;33m.\u001b[0m\u001b[0mshape\u001b[0m\u001b[1;33m[\u001b[0m\u001b[1;36m0\u001b[0m\u001b[1;33m]\u001b[0m\u001b[1;33m)\u001b[0m\u001b[1;33m:\u001b[0m\u001b[1;33m\u001b[0m\u001b[1;33m\u001b[0m\u001b[0m\n",
      "\u001b[1;32m~\\anaconda3\\lib\\site-packages\\scipy\\stats\\_hypotests.py\u001b[0m in \u001b[0;36m_tukey_hsd_iv\u001b[1;34m(args)\u001b[0m\n\u001b[0;32m   1580\u001b[0m     \u001b[0mthe\u001b[0m \u001b[0mtest\u001b[0m \u001b[0mstatistic\u001b[0m\u001b[1;33m,\u001b[0m \u001b[0mmidranks\u001b[0m \u001b[0mare\u001b[0m \u001b[0mused\u001b[0m \u001b[1;32mif\u001b[0m \u001b[0mthere\u001b[0m \u001b[0mare\u001b[0m \u001b[0mties\u001b[0m\u001b[1;33m.\u001b[0m\u001b[1;33m\u001b[0m\u001b[1;33m\u001b[0m\u001b[0m\n\u001b[0;32m   1581\u001b[0m \u001b[1;33m\u001b[0m\u001b[0m\n\u001b[1;32m-> 1582\u001b[1;33m     \u001b[0mReferences\u001b[0m\u001b[1;33m\u001b[0m\u001b[1;33m\u001b[0m\u001b[0m\n\u001b[0m\u001b[0;32m   1583\u001b[0m     \u001b[1;33m-\u001b[0m\u001b[1;33m-\u001b[0m\u001b[1;33m-\u001b[0m\u001b[1;33m-\u001b[0m\u001b[1;33m-\u001b[0m\u001b[1;33m-\u001b[0m\u001b[1;33m-\u001b[0m\u001b[1;33m-\u001b[0m\u001b[1;33m-\u001b[0m\u001b[1;33m-\u001b[0m\u001b[1;33m\u001b[0m\u001b[1;33m\u001b[0m\u001b[0m\n\u001b[0;32m   1584\u001b[0m     \u001b[1;33m.\u001b[0m\u001b[1;33m.\u001b[0m \u001b[1;33m[\u001b[0m\u001b[1;36m1\u001b[0m\u001b[1;33m]\u001b[0m \u001b[0mhttps\u001b[0m\u001b[1;33m:\u001b[0m\u001b[1;33m//\u001b[0m\u001b[0men\u001b[0m\u001b[1;33m.\u001b[0m\u001b[0mwikipedia\u001b[0m\u001b[1;33m.\u001b[0m\u001b[0morg\u001b[0m\u001b[1;33m/\u001b[0m\u001b[0mwiki\u001b[0m\u001b[1;33m/\u001b[0m\u001b[0mCramer\u001b[0m\u001b[1;33m-\u001b[0m\u001b[0mvon_Mises_criterion\u001b[0m\u001b[1;33m\u001b[0m\u001b[1;33m\u001b[0m\u001b[0m\n",
      "\u001b[1;31mTypeError\u001b[0m: ufunc 'isinf' not supported for the input types, and the inputs could not be safely coerced to any supported types according to the casting rule ''safe''"
     ]
    }
   ],
   "source": [
    "import numpy as np\n",
    "from scipy.stats import f_oneway, tukey_hsd\n",
    "\n",
    "# generate example data\n",
    "store_a_sales = np.random.normal(loc=1000, scale=100, size=30)\n",
    "store_b_sales = np.random.normal(loc=1100, scale=100, size=30)\n",
    "store_c_sales = np.random.normal(loc=1200, scale=100, size=30)\n",
    "\n",
    "# conduct one-way ANOVA\n",
    "f_statistic, p_value = f_oneway(store_a_sales, store_b_sales, store_c_sales)\n",
    "\n",
    "# print results\n",
    "print(\"F-statistic: \", f_statistic)\n",
    "print(\"p-value: \", p_value)\n",
    "\n",
    "# conduct post-hoc Tukey test if significant differences found\n",
    "if p_value < 0.05:\n",
    "    all_sales = np.concatenate((store_a_sales, store_b_sales, store_c_sales))\n",
    "    group_labels = ['Store A'] * len(store_a_sales) + ['Store B'] * len(store_b_sales) + ['Store C'] * len(store_c_sales)\n",
    "    tukey_results = tukey_hsd(all_sales, group_labels)\n",
    "    print(tukey_results) "
   ]
  },
  {
   "cell_type": "code",
   "execution_count": null,
   "id": "707773c0",
   "metadata": {},
   "outputs": [],
   "source": []
  }
 ],
 "metadata": {
  "kernelspec": {
   "display_name": "Python 3 (ipykernel)",
   "language": "python",
   "name": "python3"
  },
  "language_info": {
   "codemirror_mode": {
    "name": "ipython",
    "version": 3
   },
   "file_extension": ".py",
   "mimetype": "text/x-python",
   "name": "python",
   "nbconvert_exporter": "python",
   "pygments_lexer": "ipython3",
   "version": "3.9.13"
  }
 },
 "nbformat": 4,
 "nbformat_minor": 5
}
